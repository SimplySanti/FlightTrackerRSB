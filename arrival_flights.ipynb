{
 "cells": [
  {
   "cell_type": "code",
   "execution_count": 2,
   "metadata": {},
   "outputs": [],
   "source": [
    "from bs4 import BeautifulSoup\n",
    "import requests\n",
    "from datetime import datetime, timedelta\n",
    "import time"
   ]
  },
  {
   "cell_type": "code",
   "execution_count": 17,
   "metadata": {},
   "outputs": [
    {
     "data": {
      "text/plain": [
       "2"
      ]
     },
     "execution_count": 17,
     "metadata": {},
     "output_type": "execute_result"
    }
   ],
   "source": [
    "def day_difference(date_str1, date_str2):\n",
    "    start_date = datetime.strptime(date_str1, '%d %m %Y')\n",
    "    end_date = datetime.strptime(date_str2, '%d %b %Y')\n",
    "    date_difference = end_date - start_date\n",
    "    return date_difference.days"
   ]
  },
  {
   "cell_type": "code",
   "execution_count": 41,
   "metadata": {},
   "outputs": [
    {
     "name": "stdout",
     "output_type": "stream",
     "text": [
      "{'time': '03:15', 'date': '24 Jan 2024', 'iata': 'PMI', 'destination': 'Palma de Mallorca', 'flight': 'WT109', 'airline': 'Swiftair', 'status': 'Unknown'}\n"
     ]
    }
   ],
   "source": [
    "def get_airport_arrivals(airport_code,year,month,day):\n",
    "\n",
    "    #Scraping from a few elements before the date selected to get full arrivals list.\n",
    "    date_time = datetime(year,month,day,23,0)\n",
    "    converted_date = date_time - timedelta(days=1)\n",
    "    startDate = time.mktime(converted_date.timetuple())\n",
    "    \n",
    "    flights = []\n",
    "    pageNum = 0\n",
    "    #Generate URL for scraping\n",
    "    while(True):\n",
    "\n",
    "        url = 'https://www.avionio.com/en/airport/' + airport_code + '/departures' + '?ts=' + str(int(startDate)) + '000&page=' + str(pageNum)\n",
    "\n",
    "        #add format to string for date\n",
    "        \n",
    "        #Get HTML from URL\n",
    "        res = requests.get(url)\n",
    "        htmlData = res.content\n",
    "        parsedData = BeautifulSoup(htmlData, 'html.parser')\n",
    "        \n",
    "        #Rows with departure data\n",
    "        info_table = parsedData.find_all('tr',class_='tt-row')\n",
    "    \n",
    "        for row in info_table:\n",
    "            if 'tt-child' in row['class']:  \n",
    "                continue\n",
    "            \n",
    "            flight = {\n",
    "                'time': row.find('td',class_='tt-t').text.strip(),\n",
    "                'date': row.find('td',class_='tt-d').text.strip() + ' 2024',\n",
    "                'iata': row.find('td',class_='tt-i').text.strip(),\n",
    "                'destination': row.find('td',class_='tt-ap').text.strip(),\n",
    "                'flight': row.find('td',class_='tt-f').text.strip(),\n",
    "                'airline': row.find('td',class_='tt-al').text.strip(),\n",
    "                'status': row.find('td',class_='tt-s').text.strip()\n",
    "            }\n",
    "        \t\n",
    "            if (day_difference(f'{day} {month} {year}',row.find('td',class_='tt-d').text.strip() + ' 2024')):\n",
    "                return flights\n",
    "            \n",
    "\n",
    "            flights.append(flight)\n",
    "        pageNum += 1\n",
    "\n",
    "flights = get_airport_arrivals('bcn', 2024, 1, 23)"
   ]
  },
  {
   "cell_type": "code",
   "execution_count": 43,
   "metadata": {},
   "outputs": [
    {
     "data": {
      "text/plain": [
       "377"
      ]
     },
     "execution_count": 43,
     "metadata": {},
     "output_type": "execute_result"
    }
   ],
   "source": [
    "len(flights)"
   ]
  }
 ],
 "metadata": {
  "kernelspec": {
   "display_name": "Python 3",
   "language": "python",
   "name": "python3"
  },
  "language_info": {
   "codemirror_mode": {
    "name": "ipython",
    "version": 3
   },
   "file_extension": ".py",
   "mimetype": "text/x-python",
   "name": "python",
   "nbconvert_exporter": "python",
   "pygments_lexer": "ipython3",
   "version": "3.10.11"
  }
 },
 "nbformat": 4,
 "nbformat_minor": 2
}
