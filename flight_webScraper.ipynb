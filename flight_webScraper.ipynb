{
 "cells": [
  {
   "cell_type": "code",
   "execution_count": 2,
   "metadata": {},
   "outputs": [],
   "source": [
    "import time\n",
    "import os\n",
    "import requests\n",
    "from bs4 import BeautifulSoup\n",
    "from pymongo import MongoClient\n",
    "from datetime import datetime, timedelta\n",
    "from dotenv import load_dotenv\n",
    "\n",
    "load_dotenv()\n",
    "\n",
    "mongoURI = os.getenv('MONGO_URI')"
   ]
  },
  {
   "cell_type": "code",
   "execution_count": 3,
   "metadata": {},
   "outputs": [],
   "source": [
    "def get_day_difference(start_date, end_date):\n",
    "    if(isinstance(start_date, str)):\n",
    "        start_date = datetime.strptime(start_date, '%d %m %Y')\n",
    "    if(isinstance(end_date, str)):\n",
    "        end_date = datetime.strptime(end_date, '%d %b %Y')\n",
    "    date_difference = end_date - start_date\n",
    "    return date_difference.days"
   ]
  },
  {
   "cell_type": "code",
   "execution_count": 4,
   "metadata": {},
   "outputs": [],
   "source": [
    "def get_flight_rows(url):\n",
    "    #Get HTML from URL\n",
    "    res = requests.get(url)\n",
    "    htmlData = res.content\n",
    "    parsedData = BeautifulSoup(htmlData, 'html.parser')\n",
    "        \n",
    "    #Rows with departure data\n",
    "    info_table = parsedData.find_all('tr',class_='tt-row')\n",
    "    return info_table"
   ]
  },
  {
   "cell_type": "code",
   "execution_count": 5,
   "metadata": {},
   "outputs": [],
   "source": [
    "def get_day_url(airpot_code, year, month, day, mode):\n",
    "        hour_subtraction = 1\n",
    "        while(True):\n",
    "                #Setting date to a datetime object\n",
    "                date_time = datetime(year,month,day)\n",
    "                converted_date = date_time - timedelta(hours=hour_subtraction)\n",
    "                \n",
    "                #Convert date to epoch time needed for url\n",
    "                epochDate = time.mktime(converted_date.timetuple())\n",
    "                \n",
    "                #Generate URL for scraping arrivals\n",
    "                if(mode == 'arrivals'):\n",
    "                        url = 'https://www.avionio.com/en/airport/' + airpot_code + '/arrivals' + '?ts=' + str(int(epochDate)) + '000&page='\n",
    "                if(mode == 'departures'):\n",
    "                        url = 'https://www.avionio.com/en/airport/' + airpot_code + '/departures' + '?ts=' + str(int(epochDate)) + '000&page='\n",
    "                \n",
    "                #Parse URL to get first flight date\n",
    "                flights = get_flight_rows(url)\n",
    "                first_flight_date = flights[0].find('td',class_='tt-d').text.strip() + ' 2024'\n",
    "                \n",
    "                #If the shown information is from the day before then it is safe to begin scraping from there for the date selected.\n",
    "                #This way it is assured that no flights from the selected date are missed.\n",
    "                if(get_day_difference(converted_date,first_flight_date) == -1):\n",
    "                    return url\n",
    "        \n",
    "                hour_subtraction += 1"
   ]
  },
  {
   "cell_type": "code",
   "execution_count": 6,
   "metadata": {},
   "outputs": [],
   "source": [
    "def get_airport_data(airport_code,year,month,day,mode):\n",
    "    \n",
    "    datetime_day = datetime(year,month,day)\n",
    "    url = get_day_url(airport_code,year,month,day,mode)\n",
    "    \n",
    "    flights = []\n",
    "    pageNum = 0\n",
    "    \n",
    "    #Generate URL for scraping\n",
    "    while(True):\n",
    "        \n",
    "        info_table = get_flight_rows(url + str(pageNum))\n",
    "        \n",
    "        for row in info_table:\n",
    "        \n",
    "            if 'tt-child' in row['class']:  \n",
    "                continue\n",
    "            \n",
    "            row_date = row.find('td',class_='tt-d').text.strip() + ' 2024'\n",
    "            day_difference = get_day_difference(datetime_day, row_date)\n",
    "\n",
    "            if(day_difference == -1):\n",
    "                continue\n",
    "            \n",
    "            if(day_difference == 1):\n",
    "                flight_day = datetime.strptime(f'{day} {month} {year}', '%d %m %Y')\n",
    "                flight_day = str(flight_day.date())\n",
    "                return { 'date' : flight_day, 'flights' : flights }\n",
    "            \n",
    "            flight = {\n",
    "                'time': row.find('td',class_='tt-t').text.strip(),\n",
    "                'date': row.find('td',class_='tt-d').text.strip() + ' 2024',\n",
    "                'iata': row.find('td',class_='tt-i').text.strip(),\n",
    "                'arrival/departure': row.find('td',class_='tt-ap').text.strip(),\n",
    "                'flight': row.find('td',class_='tt-f').text.strip(),\n",
    "                'airline': row.find('td',class_='tt-al').text.strip(),\n",
    "                'status': row.find('td',class_='tt-s').text.strip()\n",
    "            }\n",
    "                        \n",
    "            flights.append(flight)\n",
    "        pageNum += 1"
   ]
  },
  {
   "cell_type": "code",
   "execution_count": 7,
   "metadata": {},
   "outputs": [
    {
     "name": "stdout",
     "output_type": "stream",
     "text": [
      "Inserted arrivals for day: 2024-04-20\n",
      "Inserted departures for day: 2024-04-20\n"
     ]
    }
   ],
   "source": [
    "client = MongoClient(mongoURI)\n",
    "\n",
    "def insert_flights_barcelona(day,month,year):\n",
    "    \n",
    "    flight_day = datetime.strptime(f'{day} {month} {year}', '%d %m %Y')\n",
    "    flight_day = str(flight_day.date())\n",
    "    \n",
    "    db = client['Flights']\n",
    "    col_arrivals = db[f'arrivals_barcelona']\n",
    "    col_departures = db[f'departures_barcelona']\n",
    "    \n",
    "    if ( col_arrivals.find_one({'date': { '$eq': flight_day }}) ):\n",
    "        print(f'Arrivals for day {flight_day} already in database')\n",
    "        pass\n",
    "    else:\n",
    "        flights = get_airport_data('bcn', year, month, day,'arrivals')\n",
    "        col_arrivals.insert_one(flights)\n",
    "        print(f\"Inserted arrivals for day: {flight_day}\")\n",
    "    \n",
    "    if ( col_departures.find_one({'date': { '$eq': flight_day }}) ):\n",
    "        print(f'Departures for day {flight_day} already in database')\n",
    "        pass\n",
    "    else:\n",
    "        flights = get_airport_data('bcn', year, month, day,'departures')\n",
    "        col_departures.insert_one(flights)\n",
    "        print(f\"Inserted departures for day: {flight_day}\")\n",
    "        \n",
    "        \n",
    "insert_flights_barcelona(20,4,2024)"
   ]
  }
 ],
 "metadata": {
  "kernelspec": {
   "display_name": "Python 3",
   "language": "python",
   "name": "python3"
  },
  "language_info": {
   "codemirror_mode": {
    "name": "ipython",
    "version": 3
   },
   "file_extension": ".py",
   "mimetype": "text/x-python",
   "name": "python",
   "nbconvert_exporter": "python",
   "pygments_lexer": "ipython3",
   "version": "3.10.11"
  }
 },
 "nbformat": 4,
 "nbformat_minor": 2
}
